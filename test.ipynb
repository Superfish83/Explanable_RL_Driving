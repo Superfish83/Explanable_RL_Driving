{
 "cells": [
  {
   "cell_type": "code",
   "execution_count": 1,
   "metadata": {},
   "outputs": [
    {
     "name": "stdout",
     "output_type": "stream",
     "text": [
      "pygame 2.1.2 (SDL 2.0.18, Python 3.10.0)\n",
      "Hello from the pygame community. https://www.pygame.org/contribute.html\n"
     ]
    }
   ],
   "source": [
    "from Network_PER import *\n",
    "from DriveSimTrace import *"
   ]
  },
  {
   "cell_type": "code",
   "execution_count": 3,
   "metadata": {},
   "outputs": [
    {
     "name": "stdout",
     "output_type": "stream",
     "text": [
      "Use Prioritized Sampling: False\n",
      "loaded weights from ./models/q_20230221(0)\n",
      "85\n"
     ]
    }
   ],
   "source": [
    "#시뮬레이션 테스트 코드\n",
    "n_runs = 100\n",
    "for k in range(1):\n",
    "    model = f'./models/q_20230221(0)'\n",
    "\n",
    "    #train_scores_1 = np.genfromtxt('20221003_concat_train_scores_1.csv', delimiter=',')\n",
    "\n",
    "    wins = 0\n",
    "    agent = Agent(lr=0, gamma=0.99, n_actions=5, batch_size=64, epsilon=0.0, input_dims=[1, 7], per_on=False)\n",
    "\n",
    "    agent.load_model(model)\n",
    "\n",
    "    sim = DriveSimulator()\n",
    "    avg_score = 0.0\n",
    "        \n",
    "    for i in range(n_runs):\n",
    "        over = False\n",
    "        sim.reset(frame_rate=60)\n",
    "\n",
    "        state = sim.get_sim_state()\n",
    "        while not over:\n",
    "            #print(agent.choose_action(state))\n",
    "            action, pred, pred_C = agent.choose_action(state)\n",
    "            state_, stpRwd, sim_over = sim.step(action, pred_C)\n",
    "            over = sim_over\n",
    "            state = state_\n",
    "            \n",
    "        avg_score += sim.agtRwd\n",
    "        if sim.agtRwd[0] > 0:\n",
    "            wins+=1\n",
    "        time.sleep(0.5)\n",
    "\n",
    "    print(wins)"
   ]
  },
  {
   "cell_type": "code",
   "execution_count": null,
   "metadata": {},
   "outputs": [],
   "source": [
    "def test(model_path):#시뮬레이션 테스트 코드 (여러 번)\n",
    "    n_runs = 20\n",
    "\n",
    "    for idx in range(5):\n",
    "        model = model_path + str(idx)\n",
    "\n",
    "        wins = 0\n",
    "        agent = Agent(lr=0.0005, gamma=0.99, n_actions=5, batch_size=64, epsilon=0.0, input_dims=[4, 6], per_on=False)\n",
    "\n",
    "        agent.load_model(model)\n",
    "\n",
    "        sim = DriveSimulator()\n",
    "        avg_score = 0.0\n",
    "            \n",
    "        for i in range(n_runs):\n",
    "            over = False\n",
    "            sim.reset(frame_rate=300)\n",
    "\n",
    "            state = sim.get_sim_state()\n",
    "            while not over:\n",
    "                #print(agent.choose_action(state))\n",
    "                action, pred = agent.choose_action(state)\n",
    "                state_, stpRwd, sim_over = sim.step(action)\n",
    "                over = sim_over\n",
    "                state = state_\n",
    "                \n",
    "            avg_score += sim.agtRwd\n",
    "            if sim.agtRwd > 0:\n",
    "                wins+=1\n",
    "\n",
    "        print(idx, ' - ' , wins)\n",
    "\n",
    "print('TD-Error + BlackBox(Back)')\n",
    "test('./models/q_20221016_concat_')\n",
    "\n",
    "#print('TD-Error only') #----> 820\n",
    "#test('./models/q_20221016_concat_')\n",
    "#print('TD-Error + BlackBox') #----> 743\n",
    "#test('./models/q_20221116(0)')"
   ]
  },
  {
   "cell_type": "code",
   "execution_count": null,
   "metadata": {},
   "outputs": [],
   "source": [
    "scores = np.genfromtxt('20221017_concat_train_scores.csv', delimiter=',')\n",
    "scores = scores[4]\n",
    "\n",
    "plt.plot(scores, 'b')\n",
    "\n",
    "plt.xlabel('Episodes/100')\n",
    "plt.ylabel('Average Reward (during last 100 episodes)')\n",
    "plt.legend()\n",
    "\n",
    "plt.savefig(\"learn_chart_20221017.png\")"
   ]
  }
 ],
 "metadata": {
  "kernelspec": {
   "display_name": "Python 3.10.0 64-bit",
   "language": "python",
   "name": "python3"
  },
  "language_info": {
   "codemirror_mode": {
    "name": "ipython",
    "version": 3
   },
   "file_extension": ".py",
   "mimetype": "text/x-python",
   "name": "python",
   "nbconvert_exporter": "python",
   "pygments_lexer": "ipython3",
   "version": "3.10.0"
  },
  "orig_nbformat": 4,
  "vscode": {
   "interpreter": {
    "hash": "f2ca063fdbe114e1b6e4d04529a071bcb4f5c073e5b3f4bc04898c7d4aae4031"
   }
  }
 },
 "nbformat": 4,
 "nbformat_minor": 2
}
