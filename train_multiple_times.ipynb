{
 "cells": [
  {
   "cell_type": "code",
   "execution_count": 1,
   "metadata": {},
   "outputs": [
    {
     "name": "stdout",
     "output_type": "stream",
     "text": [
      "pygame 2.1.2 (SDL 2.0.18, Python 3.10.0)\n",
      "Hello from the pygame community. https://www.pygame.org/contribute.html\n"
     ]
    }
   ],
   "source": [
    "from Network_PER import *\n",
    "from DriveSimTrace import *"
   ]
  },
  {
   "cell_type": "code",
   "execution_count": 2,
   "metadata": {
    "tags": []
   },
   "outputs": [
    {
     "name": "stdout",
     "output_type": "stream",
     "text": [
      "learning rate: 0.0005\n",
      "Use Prioritized Sampling: True\n",
      "q_next weight set!\n",
      "WARNING:tensorflow:5 out of the last 5 calls to <function Model.make_train_function.<locals>.train_function at 0x00000284589CCEE0> triggered tf.function retracing. Tracing is expensive and the excessive number of tracings could be due to (1) creating @tf.function repeatedly in a loop, (2) passing tensors with different shapes, (3) passing Python objects instead of tensors. For (1), please define your @tf.function outside of the loop. For (2), @tf.function has reduce_retracing=True option that can avoid unnecessary retracing. For (3), please refer to https://www.tensorflow.org/guide/function#controlling_retracing and https://www.tensorflow.org/api_docs/python/tf/function for  more details.\n",
      "Episode 100 , average score(last 100 episodes): [ 8.50e-01 -1.62e+00 -8.70e-01  0.00e+00 -2.00e-04] average loss: 0.41862825240474194 wins: 17 eps: 0.99\n"
     ]
    },
    {
     "ename": "ValueError",
     "evalue": "setting an array element with a sequence.",
     "output_type": "error",
     "traceback": [
      "\u001b[1;31m---------------------------------------------------------------------------\u001b[0m",
      "\u001b[1;31mTypeError\u001b[0m                                 Traceback (most recent call last)",
      "\u001b[1;31mTypeError\u001b[0m: only size-1 arrays can be converted to Python scalars",
      "\nThe above exception was the direct cause of the following exception:\n",
      "\u001b[1;31mValueError\u001b[0m                                Traceback (most recent call last)",
      "Cell \u001b[1;32mIn [2], line 51\u001b[0m\n\u001b[0;32m     47\u001b[0m avg_loss \u001b[39m/\u001b[39m\u001b[39m=\u001b[39m \u001b[39m100\u001b[39m\n\u001b[0;32m     48\u001b[0m \u001b[39mprint\u001b[39m(\u001b[39m'\u001b[39m\u001b[39mEpisode\u001b[39m\u001b[39m'\u001b[39m, sim\u001b[39m.\u001b[39mepisode_count, \u001b[39m'\u001b[39m\u001b[39m, average score(last 100 episodes):\u001b[39m\u001b[39m'\u001b[39m, avg_score, \\\n\u001b[0;32m     49\u001b[0m     \u001b[39m'\u001b[39m\u001b[39maverage loss:\u001b[39m\u001b[39m'\u001b[39m, avg_loss, \u001b[39m'\u001b[39m\u001b[39mwins:\u001b[39m\u001b[39m'\u001b[39m, sim\u001b[39m.\u001b[39mwin_count, \u001b[39m'\u001b[39m\u001b[39meps:\u001b[39m\u001b[39m'\u001b[39m, agent\u001b[39m.\u001b[39mepsilon)\n\u001b[1;32m---> 51\u001b[0m train_scores[exps, i\u001b[39m/\u001b[39;49m\u001b[39m/\u001b[39;49m\u001b[39m100\u001b[39;49m] \u001b[39m=\u001b[39m avg_score\n\u001b[0;32m     52\u001b[0m train_losses[exps, i\u001b[39m/\u001b[39m\u001b[39m/\u001b[39m\u001b[39m100\u001b[39m] \u001b[39m=\u001b[39m avg_loss\n\u001b[0;32m     53\u001b[0m avg_score \u001b[39m=\u001b[39m \u001b[39m0.0\u001b[39m\n",
      "\u001b[1;31mValueError\u001b[0m: setting an array element with a sequence."
     ]
    }
   ],
   "source": [
    "#시뮬레이션 학습 코드\n",
    "EXP_COUNT = 1\n",
    "n_runs = 10000\n",
    "rwd_components = 5\n",
    "train_scores = np.zeros([EXP_COUNT,n_runs//100])\n",
    "train_losses = np.zeros([EXP_COUNT,n_runs//100])\n",
    "\n",
    "for exps in range(EXP_COUNT):\n",
    "    wins = 0\n",
    "    per = False\n",
    "    if exps < 3:\n",
    "        per = True\n",
    "    lrate = 0.0005\n",
    "    print(\"learning rate:\", lrate)\n",
    "    agent = Agent(lr=lrate, gamma=0.999, n_actions=5, batch_size=64, epsilon=0.0, input_dims=[6], per_on=per)\n",
    "\n",
    "    sim = DriveSimulator()\n",
    "    epsilons = []\n",
    "    avg_score = 0.0\n",
    "    avg_loss = 0.0\n",
    "    \n",
    "    for i in range(n_runs):\n",
    "        over = False\n",
    "        sim.reset(frame_rate=3000)\n",
    "\n",
    "        state = sim.get_sim_state()\n",
    "        while not over:\n",
    "            action, pred, pred_C = agent.choose_action(state)\n",
    "            #print(action, pred)\n",
    "            state_, stpRwd, sim_over = sim.step(action, pred_C)\n",
    "            over = sim_over\n",
    "            \n",
    "            agent.store_transition(state, action, stpRwd, state_, over, pred)\n",
    "            state = state_\n",
    "        \n",
    "        Loss = agent.learn(exps)\n",
    "        #overestimation detection\n",
    "\n",
    "\n",
    "        agent.epsilon = round(1.0 - (float(i)/float(n_runs)),3)\n",
    "        #scores.append(sim.agtRwd)\n",
    "    \n",
    "        avg_score += np.sum(sim.agtRwd)\n",
    "        avg_loss += np.sum(Loss)\n",
    "        if sim.episode_count % 100 == 0:\n",
    "            avg_score /= 100\n",
    "            avg_loss /= 100\n",
    "            print('Episode', sim.episode_count, ', average score(last 100 episodes):', avg_score, \\\n",
    "                'average loss:', avg_loss, 'wins:', sim.win_count, 'eps:', agent.epsilon)\n",
    "\n",
    "            train_scores[exps, i//100] = avg_score\n",
    "            train_losses[exps, i//100] = avg_loss\n",
    "            avg_score = 0.0\n",
    "            avg_loss = 0.0\n",
    "            epsilons.append(agent.epsilon)\n",
    "\n",
    "    agent.save_model(f'./models/q_20230213({exps})')\n",
    "np.savetxt(f'20220213_scores.csv', train_scores, delimiter=\",\")\n",
    "np.savetxt(f'20220213_losses.csv', train_losses, delimiter=\",\")"
   ]
  },
  {
   "cell_type": "code",
   "execution_count": null,
   "metadata": {},
   "outputs": [],
   "source": [
    "\n",
    "def save_graph(date, label):\n",
    "    scores = np.genfromtxt(date + '_scores.csv', delimiter=',')\n",
    "    losses = np.genfromtxt(date + '_losses.csv', delimiter=',')\n",
    "\n",
    "    # Plot Score\n",
    "    plt.title(label + ' (score)')\n",
    "    for i in range(EXP_COUNT):\n",
    "        plt.plot(scores[i], 'b')\n",
    "        plt.plot(8.0 * np.ones_like(scores[i]), 'gray') #Score 상한선\n",
    "        plt.plot(-5.0 * np.ones_like(scores[i]), 'gray') #Score 하한선\n",
    "        plt.show()\n",
    "    #plt.savefig(date + '_score.png')\n",
    "    #plt.show()\n",
    "\n",
    "    for i in range(EXP_COUNT):\n",
    "        plt.title(label + ' (loss)')\n",
    "        #Plot Loss\n",
    "        plt.plot(losses[i], 'orange')\n",
    "        plt.plot(1.5 * np.ones_like(losses[i]), 'gray') #Loss 상한선\n",
    "        plt.plot(np.zeros_like(losses[i]), 'gray') #Loss 하한선\n",
    "        plt.show()\n",
    "    #plt.savefig(date + '_loss.png')\n",
    "    #plt.show()\n",
    "\n",
    "save_graph(date = '20221209', label = 'test1')"
   ]
  }
 ],
 "metadata": {
  "kernelspec": {
   "display_name": "Python 3.10.0 64-bit",
   "language": "python",
   "name": "python3"
  },
  "language_info": {
   "codemirror_mode": {
    "name": "ipython",
    "version": 3
   },
   "file_extension": ".py",
   "mimetype": "text/x-python",
   "name": "python",
   "nbconvert_exporter": "python",
   "pygments_lexer": "ipython3",
   "version": "3.10.0"
  },
  "orig_nbformat": 2,
  "vscode": {
   "interpreter": {
    "hash": "f2ca063fdbe114e1b6e4d04529a071bcb4f5c073e5b3f4bc04898c7d4aae4031"
   }
  }
 },
 "nbformat": 4,
 "nbformat_minor": 2
}
