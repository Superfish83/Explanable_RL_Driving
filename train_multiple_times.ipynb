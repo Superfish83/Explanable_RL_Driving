{
 "cells": [
  {
   "cell_type": "code",
   "execution_count": 1,
   "metadata": {},
   "outputs": [
    {
     "name": "stdout",
     "output_type": "stream",
     "text": [
      "pygame 2.1.2 (SDL 2.0.18, Python 3.10.0)\n",
      "Hello from the pygame community. https://www.pygame.org/contribute.html\n"
     ]
    }
   ],
   "source": [
    "from Network_PER import *\n",
    "from DriveSimTrace import *"
   ]
  },
  {
   "cell_type": "code",
   "execution_count": 2,
   "metadata": {
    "tags": []
   },
   "outputs": [
    {
     "name": "stdout",
     "output_type": "stream",
     "text": [
      "learning rate: 0.0005\n",
      "Use Prioritized Sampling: True\n"
     ]
    },
    {
     "ename": "ValueError",
     "evalue": "could not broadcast input array from shape (7,) into shape (6,)",
     "output_type": "error",
     "traceback": [
      "\u001b[1;31m---------------------------------------------------------------------------\u001b[0m",
      "\u001b[1;31mValueError\u001b[0m                                Traceback (most recent call last)",
      "Cell \u001b[1;32mIn [2], line 33\u001b[0m\n\u001b[0;32m     30\u001b[0m     state_, stpRwd, sim_over \u001b[39m=\u001b[39m sim\u001b[39m.\u001b[39mstep(action, pred_C)\n\u001b[0;32m     31\u001b[0m     over \u001b[39m=\u001b[39m sim_over\n\u001b[1;32m---> 33\u001b[0m     agent\u001b[39m.\u001b[39;49mstore_transition(state, action, stpRwd, state_, over, pred)\n\u001b[0;32m     34\u001b[0m     state \u001b[39m=\u001b[39m state_\n\u001b[0;32m     36\u001b[0m Loss \u001b[39m=\u001b[39m agent\u001b[39m.\u001b[39mlearn(exps)\n",
      "File \u001b[1;32me:\\DEV\\Explanable_RL_Driving\\Network_PER.py:153\u001b[0m, in \u001b[0;36mAgent.store_transition\u001b[1;34m(self, state, action, reward, new_state, done, pred)\u001b[0m\n\u001b[0;32m    150\u001b[0m tderror \u001b[39m=\u001b[39m \u001b[39mabs\u001b[39m(target \u001b[39m-\u001b[39m pred)\n\u001b[0;32m    151\u001b[0m \u001b[39m#print('TD-Error:', tderror)\u001b[39;00m\n\u001b[1;32m--> 153\u001b[0m \u001b[39mself\u001b[39;49m\u001b[39m.\u001b[39;49mmemory\u001b[39m.\u001b[39;49mstore_transition(state, action, reward, new_state, done, tderror)\n\u001b[0;32m    154\u001b[0m \u001b[39mself\u001b[39m\u001b[39m.\u001b[39mepisode_frame_cnt \u001b[39m+\u001b[39m\u001b[39m=\u001b[39m \u001b[39m1\u001b[39m\n",
      "File \u001b[1;32me:\\DEV\\Explanable_RL_Driving\\Network_PER.py:66\u001b[0m, in \u001b[0;36mReplayBuffer.store_transition\u001b[1;34m(self, state, action, reward, new_state, done, tderror)\u001b[0m\n\u001b[0;32m     63\u001b[0m \u001b[39mself\u001b[39m\u001b[39m.\u001b[39mmem_cntr \u001b[39m+\u001b[39m\u001b[39m=\u001b[39m \u001b[39m1\u001b[39m\n\u001b[0;32m     65\u001b[0m index \u001b[39m=\u001b[39m \u001b[39mself\u001b[39m\u001b[39m.\u001b[39mmem_cntr \u001b[39m%\u001b[39m \u001b[39mself\u001b[39m\u001b[39m.\u001b[39mmem_size\n\u001b[1;32m---> 66\u001b[0m \u001b[39mself\u001b[39;49m\u001b[39m.\u001b[39;49mstate_memory[index] \u001b[39m=\u001b[39m state\n\u001b[0;32m     67\u001b[0m \u001b[39mself\u001b[39m\u001b[39m.\u001b[39mnew_state_memory[index] \u001b[39m=\u001b[39m new_state\n\u001b[0;32m     68\u001b[0m \u001b[39mself\u001b[39m\u001b[39m.\u001b[39maction_memory[index] \u001b[39m=\u001b[39m action\n",
      "\u001b[1;31mValueError\u001b[0m: could not broadcast input array from shape (7,) into shape (6,)"
     ]
    }
   ],
   "source": [
    "#시뮬레이션 학습 코드\n",
    "EXP_COUNT = 1\n",
    "n_runs = 10000\n",
    "rwd_components = 5\n",
    "train_scores = np.zeros([EXP_COUNT,n_runs//100])\n",
    "train_losses = np.zeros([EXP_COUNT,n_runs//100])\n",
    "\n",
    "for exps in range(EXP_COUNT):\n",
    "    wins = 0\n",
    "    per = False\n",
    "    if exps < 3:\n",
    "        per = True\n",
    "    lrate = 0.0005\n",
    "    print(\"learning rate:\", lrate)\n",
    "    agent = Agent(lr=lrate, gamma=0.999, n_actions=5, batch_size=64, epsilon=0.0, input_dims=[7], per_on=per)\n",
    "\n",
    "    sim = DriveSimulator()\n",
    "    epsilons = []\n",
    "    avg_score = 0.0\n",
    "    avg_loss = 0.0\n",
    "    \n",
    "    for i in range(n_runs):\n",
    "        over = False\n",
    "        sim.reset(frame_rate=3000)\n",
    "\n",
    "        state = sim.get_sim_state()\n",
    "        while not over:\n",
    "            action, pred, pred_C = agent.choose_action(state)\n",
    "            #print(action, pred)\n",
    "            state_, stpRwd, sim_over = sim.step(action, pred_C)\n",
    "            over = sim_over\n",
    "            \n",
    "            agent.store_transition(state, action, stpRwd, state_, over, pred)\n",
    "            state = state_\n",
    "        \n",
    "        Loss = agent.learn(exps)\n",
    "        #overestimation detection\n",
    "\n",
    "\n",
    "        agent.epsilon = round(1.0 - (float(i)/float(n_runs)),3)\n",
    "        #scores.append(sim.agtRwd)\n",
    "    \n",
    "        avg_score += np.sum(sim.agtRwd)\n",
    "        avg_loss += np.sum(Loss)\n",
    "        if sim.episode_count % 100 == 0:\n",
    "            avg_score /= 100\n",
    "            avg_loss /= 100\n",
    "            print('Episode', sim.episode_count, ', average score(last 100 episodes):', avg_score, \\\n",
    "                'average loss:', avg_loss, 'wins:', sim.win_count, 'eps:', agent.epsilon)\n",
    "\n",
    "            train_scores[exps, i//100] = avg_score\n",
    "            train_losses[exps, i//100] = avg_loss\n",
    "            avg_score = 0.0\n",
    "            avg_loss = 0.0\n",
    "            epsilons.append(agent.epsilon)\n",
    "\n",
    "    agent.save_model(f'./models/q_20230213({exps})')\n",
    "np.savetxt(f'20220213_scores.csv', train_scores, delimiter=\",\")\n",
    "np.savetxt(f'20220213_losses.csv', train_losses, delimiter=\",\")"
   ]
  },
  {
   "cell_type": "code",
   "execution_count": null,
   "metadata": {},
   "outputs": [],
   "source": [
    "\n",
    "def save_graph(date, label):\n",
    "    scores = np.genfromtxt(date + '_scores.csv', delimiter=',')\n",
    "    losses = np.genfromtxt(date + '_losses.csv', delimiter=',')\n",
    "\n",
    "    # Plot Score\n",
    "    plt.title(label + ' (score)')\n",
    "    for i in range(EXP_COUNT):\n",
    "        plt.plot(scores[i], 'b')\n",
    "        plt.plot(8.0 * np.ones_like(scores[i]), 'gray') #Score 상한선\n",
    "        plt.plot(-5.0 * np.ones_like(scores[i]), 'gray') #Score 하한선\n",
    "        plt.show()\n",
    "    #plt.savefig(date + '_score.png')\n",
    "    #plt.show()\n",
    "\n",
    "    for i in range(EXP_COUNT):\n",
    "        plt.title(label + ' (loss)')\n",
    "        #Plot Loss\n",
    "        plt.plot(losses[i], 'orange')\n",
    "        plt.plot(1.5 * np.ones_like(losses[i]), 'gray') #Loss 상한선\n",
    "        plt.plot(np.zeros_like(losses[i]), 'gray') #Loss 하한선\n",
    "        plt.show()\n",
    "    #plt.savefig(date + '_loss.png')\n",
    "    #plt.show()\n",
    "\n",
    "save_graph(date = '20221209', label = 'test1')"
   ]
  }
 ],
 "metadata": {
  "kernelspec": {
   "display_name": "Python 3.10.0 64-bit",
   "language": "python",
   "name": "python3"
  },
  "language_info": {
   "codemirror_mode": {
    "name": "ipython",
    "version": 3
   },
   "file_extension": ".py",
   "mimetype": "text/x-python",
   "name": "python",
   "nbconvert_exporter": "python",
   "pygments_lexer": "ipython3",
   "version": "3.10.0"
  },
  "orig_nbformat": 2,
  "vscode": {
   "interpreter": {
    "hash": "f2ca063fdbe114e1b6e4d04529a071bcb4f5c073e5b3f4bc04898c7d4aae4031"
   }
  }
 },
 "nbformat": 4,
 "nbformat_minor": 2
}
